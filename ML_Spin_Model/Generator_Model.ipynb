{
 "cells": [
  {
   "attachments": {},
   "cell_type": "markdown",
   "metadata": {},
   "source": [
    "# Spin Configuration Generator"
   ]
  },
  {
   "cell_type": "code",
   "execution_count": 1,
   "metadata": {},
   "outputs": [
    {
     "name": "stderr",
     "output_type": "stream",
     "text": [
      "/phys/linux/64/anaconda/python3/current/lib/python3.9/site-packages/torchvision/io/image.py:13: UserWarning: Failed to load image Python extension: '/data/phys/linux/64/anaconda/python3/2022.05/lib/python3.9/site-packages/torchvision/image.so: undefined symbol: _ZN3c104cuda20CUDACachingAllocator9allocatorE'If you don't plan on using image functionality from `torchvision.io`, you can ignore this warning. Otherwise, there might be something wrong with your environment. Did you have `libjpeg` or `libpng` installed before building `torchvision` from source?\n",
      "  warn(\n"
     ]
    }
   ],
   "source": [
    "import numpy as np\n",
    "import torch\n",
    "import torch.nn as nn\n",
    "import torch.optim as optim\n",
    "from torchvision import datasets, models, transforms\n",
    "import matplotlib.pyplot as plt\n",
    "import os\n",
    "from PIL import Image"
   ]
  },
  {
   "cell_type": "markdown",
   "metadata": {},
   "source": [
    "### Loading Datasets\n",
    "\n",
    "You can load different datasets by changing the dataset path for testing, trainging, and benchmarking"
   ]
  },
  {
   "cell_type": "code",
   "execution_count": 2,
   "metadata": {},
   "outputs": [],
   "source": [
    "L = 32"
   ]
  },
  {
   "cell_type": "code",
   "execution_count": 3,
   "metadata": {},
   "outputs": [],
   "source": [
    "# Set these variables to the appropriate directory paths\n",
    "\n",
    "train_dir = '../data/{}-{}/temp_class/train/'.format(L,L)\n",
    "\n",
    "# Set these variables to the appropriate directory paths\n",
    "benchmark_dir = '../data/{}-{}/temp_class/test/'.format(L,L)"
   ]
  },
  {
   "cell_type": "code",
   "execution_count": 4,
   "metadata": {},
   "outputs": [],
   "source": [
    "# data transforms\n",
    "dset_transform = transforms.Compose([\n",
    "    transforms.Grayscale(num_output_channels=1),\n",
    "    transforms.ToTensor()])\n",
    "\n",
    "#create datasets using ImageFolder\n",
    "train_data = datasets.ImageFolder(train_dir, transform=dset_transform)\n",
    "# test_data = datasets.ImageFolder(test_dir, transform=dset_transform)\n",
    "benchmark_data = datasets.ImageFolder(benchmark_dir, transform=dset_transform)\n",
    "\n",
    "batch_size = 64\n",
    "# create dataloaders\n",
    "train_loader = torch.utils.data.DataLoader(train_data, batch_size=batch_size, shuffle=True, drop_last=True)\n",
    "# test_loader = torch.utils.data.DataLoader(test_data, batch_size=batch_size, shuffle=False)"
   ]
  },
  {
   "cell_type": "code",
   "execution_count": 5,
   "metadata": {},
   "outputs": [
    {
     "name": "stdout",
     "output_type": "stream",
     "text": [
      "27\n"
     ]
    }
   ],
   "source": [
    "num_classes = len(train_data.classes)\n",
    "print(num_classes)"
   ]
  },
  {
   "attachments": {},
   "cell_type": "markdown",
   "metadata": {},
   "source": [
    "### Helper functions\n",
    "\n",
    "Thanks to Teal Witter for code for these helper functions https://github.com/rtealwitter/dl-demos/blob/b537a5dd94953ea656a2140227af78f67c042540/demo11-conditional-gan.ipynb"
   ]
  },
  {
   "cell_type": "code",
   "execution_count": 6,
   "metadata": {},
   "outputs": [],
   "source": [
    "def normalize_generator_output(x):\n",
    "    #convert to binary data\n",
    "    x[x>=0.5] = 1\n",
    "    x[x<0.5] = 0\n",
    "    return x"
   ]
  },
  {
   "cell_type": "code",
   "execution_count": 7,
   "metadata": {},
   "outputs": [],
   "source": [
    "def to_onehot(x, num_classes=2):\n",
    "    assert isinstance(x, int) or isinstance(x, (torch.LongTensor, torch.cuda.LongTensor))\n",
    "    if isinstance(x, int):\n",
    "        c = torch.zeros(1, num_classes).long()\n",
    "        c[0][x] = 1\n",
    "    else:\n",
    "        x = x.cpu()\n",
    "        c = torch.LongTensor(x.size(0), num_classes)\n",
    "        c.zero_()\n",
    "        c.scatter_(1, x, 1) # dim, index, src value\n",
    "    return c\n"
   ]
  },
  {
   "cell_type": "code",
   "execution_count": 8,
   "metadata": {},
   "outputs": [],
   "source": [
    "def get_sample_image(G, DEVICE, n_noise=100):\n",
    "    img = np.zeros([L*num_classes, L*num_classes])\n",
    "    for j in range(num_classes):\n",
    "        c = torch.zeros([num_classes, num_classes]).to(DEVICE)\n",
    "        c[:, j] = 1\n",
    "        z = torch.randn(num_classes, n_noise).to(DEVICE)\n",
    "        y_hat = G(z,c).view(num_classes, L, L)\n",
    "        y_hat = normalize_generator_output(y_hat)\n",
    "        result = y_hat.cpu().data.numpy()\n",
    "        img[j*L:(j+1)*L] = np.concatenate([x for x in result], axis=-1)\n",
    "    return img"
   ]
  },
  {
   "cell_type": "code",
   "execution_count": 9,
   "metadata": {},
   "outputs": [],
   "source": [
    "input_size = [L,L]\n",
    "hidden_layers = 10\n",
    "layer_size = 256"
   ]
  },
  {
   "attachments": {},
   "cell_type": "markdown",
   "metadata": {},
   "source": [
    "## Architecture\n",
    "\n",
    "Define the architecture of the generator and discriminator"
   ]
  },
  {
   "cell_type": "code",
   "execution_count": 10,
   "metadata": {},
   "outputs": [],
   "source": [
    "def linear_block(layer_size, num_layers):\n",
    "    layers = []\n",
    "    for i in range(num_layers):\n",
    "        layers.append(nn.Linear(layer_size, layer_size))\n",
    "        layers.append(nn.LeakyReLU())\n",
    "    return layers"
   ]
  },
  {
   "cell_type": "code",
   "execution_count": 11,
   "metadata": {},
   "outputs": [],
   "source": [
    "class Generator(nn.Module):\n",
    "    def __init__(self, image_dim, hidden_layers, layer_size, num_classes, input_size=100):\n",
    "        super(Generator, self).__init__()\n",
    "        self.image_size = np.prod(image_dim)\n",
    "        self.input_layer = [nn.Linear(input_size + num_classes, layer_size)]\n",
    "        self.hidden_layers = linear_block(layer_size, hidden_layers)\n",
    "        self.output_layer = [nn.Linear(layer_size, self.image_size), nn.Tanh()]\n",
    "        self.model = nn.Sequential(*self.input_layer, *self.hidden_layers, *self.output_layer)\n",
    "\n",
    "    def forward(self, x, c):\n",
    "        x, c = x.view(x.size(0), -1), c.view(c.size(0), -1).float()\n",
    "        v = torch.cat([x, c], dim=1)\n",
    "        return self.model(v)\n"
   ]
  },
  {
   "cell_type": "code",
   "execution_count": 12,
   "metadata": {},
   "outputs": [],
   "source": [
    "class Discriminator(nn.Module):\n",
    "    def __init__(self, image_dim, hidden_layers, layer_size, num_classes):\n",
    "        super(Discriminator, self).__init__()\n",
    "        self.image_size = np.prod(image_dim)\n",
    "        self.input_layer = [nn.Linear(self.image_size + num_classes, layer_size)]\n",
    "        self.hidden_layers = linear_block(layer_size, hidden_layers)\n",
    "        self.output_layer = [nn.Linear(layer_size, 1), nn.Sigmoid()]\n",
    "        self.model = nn.Sequential(*self.input_layer, *self.hidden_layers, *self.output_layer)\n",
    "\n",
    "    def forward(self, x, c):\n",
    "        x, c = x.view(x.size(0), -1), c.view(c.size(0), -1).float()\n",
    "        v = torch.cat([x, c], dim=1)\n",
    "        return self.model(v)"
   ]
  },
  {
   "attachments": {},
   "cell_type": "markdown",
   "metadata": {},
   "source": [
    "## Setup and Training"
   ]
  },
  {
   "cell_type": "code",
   "execution_count": 13,
   "metadata": {},
   "outputs": [],
   "source": [
    "MODEL_PATH = './models/{}-{}-GAN/'.format(L,L)\n",
    "SAMPLE_PATH = '../generated_samples/{}-{}-GAN/'.format(L,L)\n",
    "DEVICE = torch.device(\"cuda:0\" if torch.cuda.is_available() else \"cpu\")\n",
    "\n",
    "D = Discriminator(input_size, hidden_layers, layer_size, num_classes).to(DEVICE)\n",
    "G = Generator(input_size, hidden_layers, layer_size, num_classes).to(DEVICE)\n",
    "\n",
    "max_epoch = 100\n",
    "step = 0\n",
    "n_noise = 100 # noise dimension\n",
    "\n",
    "criterion = nn.BCELoss()\n",
    "D_optimizer = optim.Adam(D.parameters(), lr=0.0002, betas=(0.5, 0.999))\n",
    "G_optimizer = optim.Adam(G.parameters(), lr=0.0002, betas=(0.5, 0.999))\n",
    "\n",
    "\n",
    "# We will denote real images as 1s and fake images as 0s\n",
    "# This is why we needed to drop the last batch of the data loader\n",
    "D_labels = torch.ones([batch_size, 1]).to(DEVICE) # Discriminator label: real\n",
    "D_fakes = torch.zeros([batch_size, 1]).to(DEVICE) # Discriminator Label: fake"
   ]
  },
  {
   "cell_type": "code",
   "execution_count": 14,
   "metadata": {},
   "outputs": [
    {
     "name": "stdout",
     "output_type": "stream",
     "text": [
      "Epoch: 0, Step: 0, D_loss: 1.386702537536621, G_loss: -0.6768744587898254\n",
      "Epoch: 0, Step: 100, D_loss: 1.3666231632232666, G_loss: -0.48838579654693604\n",
      "Epoch: 1, Step: 200, D_loss: 1.3452959060668945, G_loss: -0.6379456520080566\n",
      "Epoch: 2, Step: 300, D_loss: 1.1961697340011597, G_loss: -0.573756992816925\n",
      "Epoch: 3, Step: 400, D_loss: 1.3409788608551025, G_loss: -0.6070871949195862\n",
      "Epoch: 4, Step: 500, D_loss: 1.344268560409546, G_loss: -0.5959107279777527\n",
      "Epoch: 5, Step: 600, D_loss: 1.156565546989441, G_loss: -0.596035361289978\n",
      "Epoch: 6, Step: 700, D_loss: 100.00006103515625, G_loss: -100.0\n",
      "Epoch: 7, Step: 800, D_loss: 100.00003051757812, G_loss: -100.0\n",
      "Epoch: 7, Step: 900, D_loss: 100.0000228881836, G_loss: -100.0\n",
      "Epoch: 8, Step: 1000, D_loss: 100.00001525878906, G_loss: -100.0\n",
      "Epoch: 9, Step: 1100, D_loss: 100.00001525878906, G_loss: -100.0\n",
      "Epoch: 10, Step: 1200, D_loss: 100.00000762939453, G_loss: -100.0\n",
      "Epoch: 11, Step: 1300, D_loss: 100.0, G_loss: -100.0\n",
      "Epoch: 12, Step: 1400, D_loss: 100.00000762939453, G_loss: -100.0\n",
      "Epoch: 13, Step: 1500, D_loss: 100.0, G_loss: -100.0\n",
      "Epoch: 14, Step: 1600, D_loss: 100.0, G_loss: -100.0\n",
      "Epoch: 14, Step: 1700, D_loss: 100.0, G_loss: -100.0\n",
      "Epoch: 15, Step: 1800, D_loss: 100.0, G_loss: -100.0\n",
      "Epoch: 16, Step: 1900, D_loss: 100.0, G_loss: -100.0\n",
      "Epoch: 17, Step: 2000, D_loss: 100.0, G_loss: -100.0\n",
      "Epoch: 18, Step: 2100, D_loss: 100.0, G_loss: -100.0\n",
      "Epoch: 19, Step: 2200, D_loss: 100.0, G_loss: -100.0\n",
      "Epoch: 20, Step: 2300, D_loss: 100.0, G_loss: -100.0\n",
      "Epoch: 21, Step: 2400, D_loss: 100.0, G_loss: -100.0\n",
      "Epoch: 21, Step: 2500, D_loss: 100.0, G_loss: -100.0\n",
      "Epoch: 22, Step: 2600, D_loss: 100.0, G_loss: -100.0\n",
      "Epoch: 23, Step: 2700, D_loss: 100.0, G_loss: -100.0\n",
      "Epoch: 24, Step: 2800, D_loss: 100.0, G_loss: -100.0\n",
      "Epoch: 25, Step: 2900, D_loss: 100.0, G_loss: -100.0\n",
      "Epoch: 26, Step: 3000, D_loss: 100.0, G_loss: -100.0\n",
      "Epoch: 27, Step: 3100, D_loss: 100.0, G_loss: -100.0\n",
      "Epoch: 28, Step: 3200, D_loss: 100.0, G_loss: -100.0\n",
      "Epoch: 28, Step: 3300, D_loss: 100.0, G_loss: -100.0\n",
      "Epoch: 29, Step: 3400, D_loss: 100.0, G_loss: -100.0\n",
      "Epoch: 30, Step: 3500, D_loss: 100.0, G_loss: -100.0\n",
      "Epoch: 31, Step: 3600, D_loss: 100.0, G_loss: -100.0\n",
      "Epoch: 32, Step: 3700, D_loss: 100.0, G_loss: -100.0\n",
      "Epoch: 33, Step: 3800, D_loss: 100.0, G_loss: -100.0\n",
      "Epoch: 34, Step: 3900, D_loss: 100.0, G_loss: -100.0\n",
      "Epoch: 35, Step: 4000, D_loss: 100.0, G_loss: -100.0\n",
      "Epoch: 35, Step: 4100, D_loss: 100.0, G_loss: -100.0\n",
      "Epoch: 36, Step: 4200, D_loss: 100.0, G_loss: -100.0\n",
      "Epoch: 37, Step: 4300, D_loss: 100.0, G_loss: -100.0\n",
      "Epoch: 38, Step: 4400, D_loss: 100.0, G_loss: -100.0\n",
      "Epoch: 39, Step: 4500, D_loss: 100.0, G_loss: -100.0\n",
      "Epoch: 40, Step: 4600, D_loss: 100.0, G_loss: -100.0\n",
      "Epoch: 41, Step: 4700, D_loss: 100.0, G_loss: -100.0\n",
      "Epoch: 42, Step: 4800, D_loss: 100.0, G_loss: -100.0\n",
      "Epoch: 42, Step: 4900, D_loss: 100.0, G_loss: -100.0\n",
      "Epoch: 43, Step: 5000, D_loss: 100.0, G_loss: -100.0\n",
      "Epoch: 44, Step: 5100, D_loss: 100.0, G_loss: -100.0\n",
      "Epoch: 45, Step: 5200, D_loss: 100.0, G_loss: -100.0\n",
      "Epoch: 46, Step: 5300, D_loss: 100.0, G_loss: -100.0\n",
      "Epoch: 47, Step: 5400, D_loss: 100.0, G_loss: -100.0\n",
      "Epoch: 48, Step: 5500, D_loss: 100.0, G_loss: -100.0\n",
      "Epoch: 49, Step: 5600, D_loss: 100.0, G_loss: -100.0\n",
      "Epoch: 50, Step: 5700, D_loss: 100.0, G_loss: -100.0\n",
      "Epoch: 50, Step: 5800, D_loss: 100.0, G_loss: -100.0\n",
      "Epoch: 51, Step: 5900, D_loss: 100.0, G_loss: -100.0\n",
      "Epoch: 52, Step: 6000, D_loss: 100.0, G_loss: -100.0\n",
      "Epoch: 53, Step: 6100, D_loss: 100.0, G_loss: -100.0\n",
      "Epoch: 54, Step: 6200, D_loss: 100.0, G_loss: -100.0\n",
      "Epoch: 55, Step: 6300, D_loss: 100.0, G_loss: -100.0\n",
      "Epoch: 56, Step: 6400, D_loss: 100.0, G_loss: -100.0\n",
      "Epoch: 57, Step: 6500, D_loss: 100.0, G_loss: -100.0\n",
      "Epoch: 57, Step: 6600, D_loss: 100.0, G_loss: -100.0\n",
      "Epoch: 58, Step: 6700, D_loss: 100.0, G_loss: -100.0\n",
      "Epoch: 59, Step: 6800, D_loss: 100.0, G_loss: -100.0\n",
      "Epoch: 60, Step: 6900, D_loss: 100.0, G_loss: -100.0\n",
      "Epoch: 61, Step: 7000, D_loss: 100.0, G_loss: -100.0\n",
      "Epoch: 62, Step: 7100, D_loss: 100.0, G_loss: -100.0\n",
      "Epoch: 63, Step: 7200, D_loss: 100.0, G_loss: -100.0\n",
      "Epoch: 64, Step: 7300, D_loss: 100.0, G_loss: -100.0\n",
      "Epoch: 64, Step: 7400, D_loss: 100.0, G_loss: -100.0\n",
      "Epoch: 65, Step: 7500, D_loss: 100.0, G_loss: -100.0\n",
      "Epoch: 66, Step: 7600, D_loss: 100.0, G_loss: -100.0\n",
      "Epoch: 67, Step: 7700, D_loss: 100.0, G_loss: -100.0\n",
      "Epoch: 68, Step: 7800, D_loss: 100.0, G_loss: -100.0\n",
      "Epoch: 69, Step: 7900, D_loss: 100.0, G_loss: -100.0\n",
      "Epoch: 70, Step: 8000, D_loss: 100.0, G_loss: -100.0\n",
      "Epoch: 71, Step: 8100, D_loss: 100.0, G_loss: -100.0\n",
      "Epoch: 71, Step: 8200, D_loss: 100.0, G_loss: -100.0\n",
      "Epoch: 72, Step: 8300, D_loss: 100.0, G_loss: -100.0\n",
      "Epoch: 73, Step: 8400, D_loss: 100.0, G_loss: -100.0\n",
      "Epoch: 74, Step: 8500, D_loss: 100.0, G_loss: -100.0\n",
      "Epoch: 75, Step: 8600, D_loss: 100.0, G_loss: -100.0\n",
      "Epoch: 76, Step: 8700, D_loss: 100.0, G_loss: -100.0\n",
      "Epoch: 77, Step: 8800, D_loss: 100.0, G_loss: -100.0\n",
      "Epoch: 78, Step: 8900, D_loss: 100.0, G_loss: -100.0\n",
      "Epoch: 78, Step: 9000, D_loss: 100.0, G_loss: -100.0\n",
      "Epoch: 79, Step: 9100, D_loss: 100.0, G_loss: -100.0\n",
      "Epoch: 80, Step: 9200, D_loss: 100.0, G_loss: -100.0\n",
      "Epoch: 81, Step: 9300, D_loss: 100.0, G_loss: -100.0\n",
      "Epoch: 82, Step: 9400, D_loss: 100.0, G_loss: -100.0\n",
      "Epoch: 83, Step: 9500, D_loss: 100.0, G_loss: -100.0\n",
      "Epoch: 84, Step: 9600, D_loss: 100.0, G_loss: -100.0\n",
      "Epoch: 85, Step: 9700, D_loss: 100.0, G_loss: -100.0\n",
      "Epoch: 85, Step: 9800, D_loss: 100.0, G_loss: -100.0\n",
      "Epoch: 86, Step: 9900, D_loss: 100.0, G_loss: -100.0\n",
      "Epoch: 87, Step: 10000, D_loss: 100.0, G_loss: -100.0\n",
      "Epoch: 88, Step: 10100, D_loss: 100.0, G_loss: -100.0\n",
      "Epoch: 89, Step: 10200, D_loss: 100.0, G_loss: -100.0\n",
      "Epoch: 90, Step: 10300, D_loss: 100.0, G_loss: -100.0\n",
      "Epoch: 91, Step: 10400, D_loss: 100.0, G_loss: -100.0\n",
      "Epoch: 92, Step: 10500, D_loss: 100.0, G_loss: -100.0\n",
      "Epoch: 92, Step: 10600, D_loss: 100.0, G_loss: -100.0\n",
      "Epoch: 93, Step: 10700, D_loss: 100.0, G_loss: -100.0\n",
      "Epoch: 94, Step: 10800, D_loss: 100.0, G_loss: -100.0\n",
      "Epoch: 95, Step: 10900, D_loss: 100.0, G_loss: -100.0\n",
      "Epoch: 96, Step: 11000, D_loss: 100.0, G_loss: -100.0\n",
      "Epoch: 97, Step: 11100, D_loss: 100.0, G_loss: -100.0\n",
      "Epoch: 98, Step: 11200, D_loss: 100.0, G_loss: -100.0\n",
      "Epoch: 99, Step: 11300, D_loss: 100.0, G_loss: -100.0\n"
     ]
    }
   ],
   "source": [
    "if not os.path.exists(SAMPLE_PATH):\n",
    "    os.makedirs(SAMPLE_PATH)\n",
    "\n",
    "if not os.path.exists(MODEL_PATH):\n",
    "    os.makedirs(MODEL_PATH)\n",
    "\n",
    "for epoch in range(max_epoch):\n",
    "    for i, (images, labels) in enumerate(train_loader):\n",
    "        # Train Discriminator\n",
    "        x = images.to(DEVICE)\n",
    "        y = labels.view(batch_size, 1) # add singleton dimension so batch_size x 1\n",
    "        y = to_onehot(y, num_classes=num_classes).to(DEVICE)\n",
    "\n",
    "        x_outputs = D(x, y)\n",
    "        D_x_loss = criterion(x_outputs, D_labels)\n",
    "\n",
    "        z = torch.randn(batch_size, n_noise).to(DEVICE)\n",
    "        z_outputs = D(G(z, y), y)\n",
    "        D_z_loss = criterion(z_outputs, D_fakes)\n",
    "        D_loss = D_x_loss + D_z_loss\n",
    "\n",
    "        D.zero_grad()\n",
    "        D_loss.backward()\n",
    "        D_optimizer.step()\n",
    "\n",
    "        # Train Generator\n",
    "        z = torch.randn(batch_size, n_noise).to(DEVICE)\n",
    "        z_outputs = D(G(z, y), y)\n",
    "        G_loss = -1 * criterion(z_outputs, D_fakes)\n",
    "\n",
    "        G.zero_grad()\n",
    "        G_loss.backward()\n",
    "        G_optimizer.step()\n",
    "\n",
    "        if step % 100 == 0:\n",
    "            print('Epoch: {}, Step: {}, D_loss: {}, G_loss: {}'.format(epoch, step, D_loss.item(), G_loss.item()))\n",
    "            \n",
    "        if step % 500 == 0:\n",
    "            G.eval()\n",
    "            img = get_sample_image(G, DEVICE, n_noise)\n",
    "            plt.imsave(SAMPLE_PATH + 'sample-{}-{}.png'.format(epoch, step), img, cmap='gray')\n",
    "            G.train()\n",
    "\n",
    "        step += 1\n"
   ]
  },
  {
   "attachments": {},
   "cell_type": "markdown",
   "metadata": {},
   "source": [
    "### Displaying the generated images"
   ]
  },
  {
   "cell_type": "code",
   "execution_count": 15,
   "metadata": {},
   "outputs": [],
   "source": [
    "def generate_image(G, device, n_noise, label):\n",
    "    G.eval()\n",
    "    c = torch.zeros([1, num_classes]).to(device)\n",
    "    c[:, label] = 1\n",
    "    z = torch.randn(1, n_noise).to(device)\n",
    "    y_hat = G(z,c).view(1, L, L)\n",
    "    y_hat = normalize_generator_output(y_hat)\n",
    "    # print(y_hat)\n",
    "    result = y_hat.cpu().data.numpy()\n",
    "    G.train()\n",
    "    return result[0]\n"
   ]
  },
  {
   "cell_type": "code",
   "execution_count": 16,
   "metadata": {},
   "outputs": [
    {
     "name": "stdout",
     "output_type": "stream",
     "text": [
      "1.0\n"
     ]
    },
    {
     "data": {
      "text/plain": [
       "<matplotlib.image.AxesImage at 0x7f9a4844d9a0>"
      ]
     },
     "execution_count": 16,
     "metadata": {},
     "output_type": "execute_result"
    },
    {
     "data": {
      "image/png": "[encoded data removed]",
      "text/plain": [
       "<Figure size 432x288 with 1 Axes>"
      ]
     },
     "metadata": {
      "needs_background": "light"
     },
     "output_type": "display_data"
    }
   ],
   "source": [
    "label = 0\n",
    "temp = train_data.classes[label]\n",
    "print(temp)\n",
    "img = generate_image(G, DEVICE, n_noise, 0)\n",
    "# print(img.shape)\n",
    "# print(img)\n",
    "plt.imshow(img, cmap='gray')"
   ]
  },
  {
   "cell_type": "code",
   "execution_count": 17,
   "metadata": {},
   "outputs": [],
   "source": [
    "img = img.astype(np.uint8) * 255\n",
    "image = Image.fromarray(img, 'L')\n",
    "image.save('../generated_samples/test.png', 'PNG')\n"
   ]
  },
  {
   "cell_type": "code",
   "execution_count": 18,
   "metadata": {},
   "outputs": [
    {
     "name": "stdout",
     "output_type": "stream",
     "text": [
      "3.4000000000000004\n"
     ]
    },
    {
     "data": {
      "text/plain": [
       "<matplotlib.image.AxesImage at 0x7f9a482fed90>"
      ]
     },
     "execution_count": 18,
     "metadata": {},
     "output_type": "execute_result"
    },
    {
     "data": {
      "image/png": "[encoded data removed]",
      "text/plain": [
       "<Figure size 432x288 with 1 Axes>"
      ]
     },
     "metadata": {
      "needs_background": "light"
     },
     "output_type": "display_data"
    }
   ],
   "source": [
    "\n",
    "label = 25\n",
    "temp = train_data.classes[label]\n",
    "print(temp)\n",
    "img = generate_image(G, DEVICE, n_noise, 15)\n",
    "plt.imshow(img, cmap='gray')"
   ]
  },
  {
   "cell_type": "code",
   "execution_count": 19,
   "metadata": {},
   "outputs": [],
   "source": [
    "image = Image.fromarray(img, 'L')\n",
    "image.save('../generated_samples/test.png', 'PNG')"
   ]
  },
  {
   "cell_type": "code",
   "execution_count": 20,
   "metadata": {},
   "outputs": [],
   "source": [
    "# save model\n",
    "torch.save(G, MODEL_PATH+'G.pth')"
   ]
  },
  {
   "cell_type": "code",
   "execution_count": 37,
   "metadata": {},
   "outputs": [
    {
     "name": "stdout",
     "output_type": "stream",
     "text": [
      "17\n",
      "13\n",
      "5\n",
      "16\n"
     ]
    },
    {
     "data": {
      "image/png": "[encoded data removed]",
      "text/plain": [
       "<Figure size 720x720 with 4 Axes>"
      ]
     },
     "metadata": {},
     "output_type": "display_data"
    }
   ],
   "source": [
    "import random\n",
    "imgs = []\n",
    "rand_classes = []\n",
    "for j in range(4):\n",
    "    cls = random.randint(0, num_classes-1)\n",
    "    print(cls)\n",
    "    rand_classes.append(cls)\n",
    "    img = generate_image(G, DEVICE, n_noise, cls)\n",
    "    imgs.append(img)\n",
    "    \n",
    "fig, axes = plt.subplots(2, 2, figsize=(10, 10))\n",
    "for i, ax in enumerate(axes.flat):\n",
    "    ax.imshow(imgs[i], cmap='gray')\n",
    "    ax.set_title('T = '+train_data.classes[rand_classes[i]]+' J/kB')\n",
    "    ax.xaxis.set_tick_params(labelbottom=False)\n",
    "    ax.yaxis.set_tick_params(labelleft=False)\n",
    "   "
   ]
  },
  {
   "cell_type": "code",
   "execution_count": 39,
   "metadata": {},
   "outputs": [],
   "source": [
    "import matplotlib\n",
    "matplotlib.rcParams['pdf.fonttype'] = 42\n",
    "fig.savefig('./results/mode_collapse.pdf', format='pdf')"
   ]
  }
 ],
 "metadata": {
  "kernelspec": {
   "display_name": "base",
   "language": "python",
   "name": "python3"
  },
  "language_info": {
   "codemirror_mode": {
    "name": "ipython",
    "version": 3
   },
   "file_extension": ".py",
   "mimetype": "text/x-python",
   "name": "python",
   "nbconvert_exporter": "python",
   "pygments_lexer": "ipython3",
   "version": "3.9.12"
  },
  "orig_nbformat": 4
 },
 "nbformat": 4,
 "nbformat_minor": 2
}
