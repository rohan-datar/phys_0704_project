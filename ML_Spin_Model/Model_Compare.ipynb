{
 "cells": [
  {
   "attachments": {},
   "cell_type": "markdown",
   "metadata": {},
   "source": [
    "# Comparing Different Models"
   ]
  },
  {
   "cell_type": "code",
   "execution_count": null,
   "metadata": {},
   "outputs": [],
   "source": [
    "import numpy as np\n",
    "import torch\n",
    "from torchvision import datasets, models, transforms\n",
    "import matplotlib.pyplot as plt"
   ]
  },
  {
   "attachments": {},
   "cell_type": "markdown",
   "metadata": {},
   "source": [
    "## Loading Data\n",
    "\n",
    "First we need to load the testing datasets for each model"
   ]
  },
  {
   "cell_type": "code",
   "execution_count": null,
   "metadata": {},
   "outputs": [],
   "source": [
    "# load datasets from the folder\n",
    "data_dir = 'data/'\n",
    "image_sizes = ['4-4', '8-8', '16-16', '25-25', '32-32']\n",
    "dirs = [data_dir + size + '/temp_class/test' for size in image_sizes]\n",
    "\n",
    "# define the transforms\n",
    "dset_transform = transforms.Compose([\n",
    "    transforms.Grayscale(num_output_channels=1),\n",
    "    transforms.ToTensor()])\n",
    "\n",
    "# load the datasets\n",
    "dsets = {y: datasets.ImageFolder(x, dset_transform) for x in dirs for y in image_sizes}\n"
   ]
  },
  {
   "attachments": {},
   "cell_type": "markdown",
   "metadata": {},
   "source": [
    "## Load the models"
   ]
  },
  {
   "cell_type": "code",
   "execution_count": null,
   "metadata": {},
   "outputs": [],
   "source": [
    "model_dir = 'models/'\n",
    "model_names = [size + '-NN.pth' for size in image_sizes]\n",
    "model_paths = [model_dir + name for name in model_names]\n",
    "\n",
    "# load the models\n",
    "models = {y: torch.load(x) for x in model_paths for y in image_sizes}"
   ]
  }
 ],
 "metadata": {
  "language_info": {
   "name": "python"
  },
  "orig_nbformat": 4
 },
 "nbformat": 4,
 "nbformat_minor": 2
}
