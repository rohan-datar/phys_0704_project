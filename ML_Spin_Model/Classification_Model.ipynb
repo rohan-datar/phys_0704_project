{
 "cells": [
  {
   "attachments": {},
   "cell_type": "markdown",
   "metadata": {},
   "source": [
    "# Spin Classification Model\n",
    "\n",
    "A deep learning model to classify quantum spin configurations"
   ]
  },
  {
   "cell_type": "code",
   "execution_count": null,
   "metadata": {},
   "outputs": [],
   "source": [
    "import numpy as np\n",
    "import torch\n",
    "import torch.nn as nn\n",
    "import torch.optim as optim\n",
    "from torchvision import datasets, models, transforms\n",
    "import matplotlib.pyplot as plt"
   ]
  },
  {
   "attachments": {},
   "cell_type": "markdown",
   "metadata": {},
   "source": [
    "### Loading Datasets\n",
    "\n",
    "You can load different datasets by changing the dataset path for testing, trainging, and benchmarking"
   ]
  },
  {
   "cell_type": "code",
   "execution_count": null,
   "metadata": {},
   "outputs": [],
   "source": [
    "# Set these variables to the appropriate directory paths\n",
    "\n",
    "test_dir = '../data/binary_class/test/'\n",
    "train_dir = '../data/binary_class/train/'\n",
    "\n",
    "# Set these variables to the appropriate directory paths\n",
    "benchmark_dir = '../data/temp_class/test/'"
   ]
  },
  {
   "cell_type": "code",
   "execution_count": null,
   "metadata": {},
   "outputs": [],
   "source": [
    "# data transforms\n",
    "dset_transform = transforms.Compose([\n",
    "    transforms.Grayscale(num_output_channels=1),\n",
    "    transforms.ToTensor()])\n",
    "\n",
    "#create datasets using ImageFolder\n",
    "train_data = datasets.ImageFolder(train_dir, transform=dset_transform)\n",
    "test_data = datasets.ImageFolder(test_dir, transform=dset_transform)\n",
    "benchmark_data = datasets.ImageFolder(benchmark_dir, transform=dset_transform)\n",
    "\n",
    "# create dataloaders\n",
    "train_loader = torch.utils.data.DataLoader(train_data, batch_size=64, shuffle=True)\n",
    "test_loader = torch.utils.data.DataLoader(test_data, batch_size=64, shuffle=False)"
   ]
  },
  {
   "attachments": {},
   "cell_type": "markdown",
   "metadata": {},
   "source": [
    "## Architecture\n",
    "\n",
    "This is the basic architecture of the model. The following parameters can be set:\n",
    "\n",
    "* `input_size`: The dimensions of the input images. Default: `[25, 25]`\n",
    "* `hidden_layers`: The number of hidden layers in the model. Default: 5\n",
    "* `layer_size`: The size of each hidden layer. Default: 128\n",
    "* `conv`: Boolean to determine if the network should be fully connected or convolutional. Default: False\n",
    "* `num_classes`: The number of output classes. Leave as 2 for binary classification. Otherwise set to number of temperature values for which data is available. Default: 2\n"
   ]
  },
  {
   "cell_type": "code",
   "execution_count": null,
   "metadata": {},
   "outputs": [],
   "source": [
    "input_size = [25,25]\n",
    "hidden_layers = 5\n",
    "layer_size = 128\n",
    "conv = True # True for convolutional, False for fully connected\n",
    "num_classes = 2"
   ]
  },
  {
   "cell_type": "code",
   "execution_count": null,
   "metadata": {},
   "outputs": [],
   "source": [
    "def linear_block(layer_size, num_layers):\n",
    "    layers = []\n",
    "    for i in range(num_layers):\n",
    "        layers.append(nn.Linear(layer_size, layer_size))\n",
    "        layers.append(nn.ReLU())\n",
    "    return layers\n",
    "    "
   ]
  },
  {
   "cell_type": "code",
   "execution_count": null,
   "metadata": {},
   "outputs": [],
   "source": [
    "def conv_block(layer_size, num_layers):\n",
    "    layers = []\n",
    "    for i in range(num_layers):\n",
    "        layers.append(nn.Conv2d(layer_size, layer_size, kernel_size=3, stride=1, padding=1))\n",
    "        layers.append(nn.ReLU())\n",
    "        layers.append(nn.MaxPool2d(kernel_size=2, stride=2))\n",
    "    return layers"
   ]
  },
  {
   "cell_type": "code",
   "execution_count": null,
   "metadata": {},
   "outputs": [],
   "source": [
    "class SpinClassifier(nn.Module): \n",
    "    def __init__(self, input_size, hidden_layers, layer_size, num_classes, conv):\n",
    "        super(SpinClassifier, self).__init__()\n",
    "        self.conv = conv\n",
    "        self.input_dim = np.prod(input_size)\n",
    "        self.output_dim = num_classes\n",
    "        self.num_layers = hidden_layers\n",
    "        self.layer_size = layer_size\n",
    "        self.input_layer = [nn.Linear(self.input_dim, self.layer_size), nn.ReLU()]\n",
    "        self.output_layer = [nn.Linear(self.layer_size, self.output_dim)]\n",
    "        if self.conv:\n",
    "            self.layers = conv_block(self.layer_size, self.num_layers)\n",
    "        else:\n",
    "            self.layers = linear_block(self.layer_size, self.num_layers)\n",
    "        \n",
    "        self.model = nn.Sequential(*self.input_layer, *self.layers, *self.output_layer)\n",
    "\n",
    "\n",
    "        \n",
    "    def forward(self, x):\n",
    "        x.view(-1, self.input_dim)\n",
    "        return self.model(x)\n",
    "        "
   ]
  }
 ],
 "metadata": {
  "kernelspec": {
   "display_name": "base",
   "language": "python",
   "name": "python3"
  },
  "language_info": {
   "name": "python",
   "version": "3.9.12"
  },
  "orig_nbformat": 4
 },
 "nbformat": 4,
 "nbformat_minor": 2
}
