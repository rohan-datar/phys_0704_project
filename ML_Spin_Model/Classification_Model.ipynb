{
 "cells": [
  {
   "attachments": {},
   "cell_type": "markdown",
   "metadata": {},
   "source": [
    "# Spin Classification Model\n",
    "\n",
    "A deep learning model to classify quantum spin configurations"
   ]
  },
  {
   "cell_type": "code",
   "execution_count": 58,
   "metadata": {},
   "outputs": [],
   "source": [
    "import numpy as np\n",
    "import torch\n",
    "import torch.nn as nn\n",
    "import torch.optim as optim\n",
    "from torchvision import datasets, models, transforms\n",
    "import matplotlib.pyplot as plt"
   ]
  },
  {
   "attachments": {},
   "cell_type": "markdown",
   "metadata": {},
   "source": [
    "### Loading Datasets\n",
    "\n",
    "You can load different datasets by changing the dataset path for testing, trainging, and benchmarking"
   ]
  },
  {
   "cell_type": "code",
   "execution_count": 59,
   "metadata": {},
   "outputs": [],
   "source": [
    "# Set these variables to the appropriate directory paths\n",
    "\n",
    "test_dir = '../data/32-32/binary_class/test/'\n",
    "train_dir = '../data/32-32/binary_class/train/'\n",
    "\n",
    "# Set these variables to the appropriate directory paths\n",
    "benchmark_dir = '../data/32-32/temp_class/test/'"
   ]
  },
  {
   "cell_type": "code",
   "execution_count": 60,
   "metadata": {},
   "outputs": [],
   "source": [
    "# data transforms\n",
    "dset_transform = transforms.Compose([\n",
    "    transforms.Grayscale(num_output_channels=1),\n",
    "    transforms.ToTensor()])\n",
    "\n",
    "#create datasets using ImageFolder\n",
    "train_data = datasets.ImageFolder(train_dir, transform=dset_transform)\n",
    "test_data = datasets.ImageFolder(test_dir, transform=dset_transform)\n",
    "benchmark_data = datasets.ImageFolder(benchmark_dir, transform=dset_transform)\n",
    "\n",
    "# create dataloaders\n",
    "train_loader = torch.utils.data.DataLoader(train_data, batch_size=64, shuffle=True)\n",
    "test_loader = torch.utils.data.DataLoader(test_data, batch_size=64, shuffle=False)"
   ]
  },
  {
   "attachments": {},
   "cell_type": "markdown",
   "metadata": {},
   "source": [
    "## Architecture\n",
    "\n",
    "This is the basic architecture of the model. The following parameters can be set:\n",
    "\n",
    "* `input_size`: The dimensions of the input images. Default: `[25, 25]`\n",
    "* `hidden_layers`: The number of hidden layers in the model. Default: 5\n",
    "* `layer_size`: The size of each hidden layer. Default: 128\n",
    "* `conv`: Boolean to determine if the network should be fully connected or convolutional. Default: False\n",
    "* `num_classes`: The number of output classes. Leave as 2 for binary classification. Otherwise set to number of temperature values for which data is available. Default: 2\n"
   ]
  },
  {
   "cell_type": "code",
   "execution_count": 61,
   "metadata": {},
   "outputs": [],
   "source": [
    "input_size = [32,32]\n",
    "hidden_layers = 4\n",
    "layer_size = 128\n",
    "conv = False # True for convolutional, False for fully connected\n",
    "num_classes = 2"
   ]
  },
  {
   "cell_type": "code",
   "execution_count": 62,
   "metadata": {},
   "outputs": [],
   "source": [
    "def linear_block(layer_size, num_layers):\n",
    "    layers = []\n",
    "    for i in range(num_layers):\n",
    "        layers.append(nn.Linear(layer_size, layer_size))\n",
    "        layers.append(nn.ReLU())\n",
    "    return layers\n",
    "    "
   ]
  },
  {
   "cell_type": "code",
   "execution_count": 63,
   "metadata": {},
   "outputs": [],
   "source": [
    "def conv_block(layer_size, num_layers):\n",
    "    layers = []\n",
    "    for i in range(num_layers):\n",
    "        layers.append(nn.Conv2d(layer_size, layer_size, kernel_size=3, stride=1, padding=1))\n",
    "        layers.append(nn.ReLU())\n",
    "        layers.append(nn.BatchNorm2d(layer_size, eps=1e-05, momentum=0.1, affine=True, track_running_stats=True))\n",
    "    return layers"
   ]
  },
  {
   "cell_type": "code",
   "execution_count": 64,
   "metadata": {},
   "outputs": [],
   "source": [
    "class SpinClassifier(nn.Module): \n",
    "    def __init__(self, input_size, hidden_layers, layer_size, num_classes, conv):\n",
    "        super(SpinClassifier, self).__init__()\n",
    "        self.conv = conv\n",
    "        self.input_size = input_size\n",
    "        self.input_dim = np.prod(input_size)\n",
    "        self.output_dim = num_classes\n",
    "        self.num_layers = hidden_layers\n",
    "        self.layer_size = layer_size\n",
    "        \n",
    "        if self.conv:\n",
    "            self.input_layer = [nn.Conv2d(1, self.layer_size, kernel_size=3, stride=1, padding=1), nn.ReLU(), nn.MaxPool2d(kernel_size=2, stride=2)]\n",
    "            self.output_layer = [nn.Conv2d(self.layer_size, self.output_dim, kernel_size=3, stride=1, padding=1), \n",
    "                                 nn.ReLU(), \n",
    "                                 nn.MaxPool2d(kernel_size=2, stride=2), \n",
    "                                 nn.Flatten(),\n",
    "                                 nn.Linear(self.output_dim*6*6, self.output_dim)]\n",
    "            self.layers = conv_block(self.layer_size, self.num_layers)\n",
    "        else:\n",
    "            self.input_layer = [nn.Linear(self.input_dim, self.layer_size), nn.ReLU()]\n",
    "            self.output_layer = [nn.Linear(self.layer_size, self.output_dim)]\n",
    "            self.layers = linear_block(self.layer_size, self.num_layers)\n",
    "        \n",
    "        self.model = nn.Sequential(*self.input_layer, *self.layers, *self.output_layer)\n",
    "\n",
    "\n",
    "        \n",
    "    def forward(self, x):\n",
    "        if not self.conv:\n",
    "            x = x.view(-1, self.input_dim)\n",
    "        x = self.model(x)\n",
    "        return x\n",
    "        "
   ]
  },
  {
   "attachments": {},
   "cell_type": "markdown",
   "metadata": {},
   "source": [
    "Now we can set up the model and the training"
   ]
  },
  {
   "cell_type": "code",
   "execution_count": 65,
   "metadata": {},
   "outputs": [],
   "source": [
    "DEVICE = \"cpu\" #torch.device(\"cuda:0\" if torch.cuda.is_available() else \"cpu\")"
   ]
  },
  {
   "cell_type": "code",
   "execution_count": 66,
   "metadata": {},
   "outputs": [],
   "source": [
    "model = SpinClassifier(input_size, hidden_layers, layer_size, num_classes, conv).to(DEVICE)\n",
    "\n",
    "max_epochs = 50\n",
    "criterion = nn.CrossEntropyLoss()\n",
    "optimizer = optim.Adam(model.parameters(), lr=0.001)\n",
    "\n",
    "save_path = './models/Spin_Classifier.pt'\n",
    "save_loss = {'train':[], 'test':[]}\n",
    "save_acc = {'train':[], 'test':[]}"
   ]
  },
  {
   "attachments": {},
   "cell_type": "markdown",
   "metadata": {},
   "source": [
    "### Training the model"
   ]
  },
  {
   "cell_type": "code",
   "execution_count": 67,
   "metadata": {},
   "outputs": [
    {
     "name": "stdout",
     "output_type": "stream",
     "text": [
      "Epoch: 0, Train Loss: 0.008019525605004008, Test Loss: 0.003944324055095999\n",
      "Epoch: 1, Train Loss: 0.002800301842209769, Test Loss: 0.0013519195343435907\n",
      "Epoch: 2, Train Loss: 0.0008009890448756336, Test Loss: 0.0006310556393695948\n",
      "Epoch: 3, Train Loss: 0.0005315302160182379, Test Loss: 0.0004921149098734577\n",
      "Epoch: 4, Train Loss: 0.00036821891599130344, Test Loss: 0.00023129087710957517\n",
      "Epoch: 5, Train Loss: 0.0002994861189707569, Test Loss: 0.00021903854307843513\n",
      "Epoch: 6, Train Loss: 0.00022445168802599848, Test Loss: 0.000989054831152316\n",
      "Epoch: 7, Train Loss: 0.0010106509449187577, Test Loss: 0.00028737641024834847\n",
      "Epoch: 8, Train Loss: 0.0003976925747417958, Test Loss: 0.00021065842744996547\n",
      "Epoch: 9, Train Loss: 0.0001654080723741706, Test Loss: 0.00010831254357670816\n",
      "Epoch: 10, Train Loss: 0.00016848681845969132, Test Loss: 7.315250553713159e-05\n",
      "Epoch: 11, Train Loss: 0.0002816321262408319, Test Loss: 7.341592638645458e-05\n",
      "Epoch: 12, Train Loss: 0.00010896085607095212, Test Loss: 0.00011976722400193956\n",
      "Epoch: 13, Train Loss: 0.00015695668422622695, Test Loss: 6.346797735981144e-05\n",
      "Epoch: 14, Train Loss: 5.511278069362316e-05, Test Loss: 6.639592729831146e-05\n",
      "Epoch: 15, Train Loss: 4.41066857753712e-05, Test Loss: 3.5867491254665345e-05\n",
      "Epoch: 16, Train Loss: 2.5157820468515783e-05, Test Loss: 1.2101611710244382e-05\n",
      "Epoch: 17, Train Loss: 1.442218046532816e-05, Test Loss: 9.03666883814589e-06\n",
      "Epoch: 18, Train Loss: 2.0041992144642125e-05, Test Loss: 7.834294565105755e-06\n",
      "Epoch: 19, Train Loss: 7.743064494961135e-06, Test Loss: 6.75705185885152e-06\n",
      "Epoch: 20, Train Loss: 9.582700483251094e-06, Test Loss: 4.918861298326037e-06\n",
      "Epoch: 21, Train Loss: 4.5458312844147735e-06, Test Loss: 3.886139900093506e-06\n",
      "Epoch: 22, Train Loss: 3.73601446149334e-06, Test Loss: 2.9266012309496396e-06\n",
      "Epoch: 23, Train Loss: 2.6842609147978497e-06, Test Loss: 2.123515602051623e-06\n",
      "Epoch: 24, Train Loss: 2.050433446883533e-06, Test Loss: 1.6697267375736666e-06\n",
      "Epoch: 25, Train Loss: 1.7099640429411768e-06, Test Loss: 1.4231559672092458e-06\n",
      "Epoch: 26, Train Loss: 1.5579760153142584e-06, Test Loss: 1.1483613565826266e-06\n",
      "Epoch: 27, Train Loss: 1.4609760763982553e-06, Test Loss: 1.0806483926277976e-06\n",
      "Epoch: 28, Train Loss: 1.7472537906653046e-06, Test Loss: 7.963986684544356e-07\n",
      "Epoch: 29, Train Loss: 7.442404709830198e-07, Test Loss: 6.543813607017577e-07\n",
      "Epoch: 30, Train Loss: 6.536164929878776e-07, Test Loss: 5.697675091718471e-07\n",
      "Epoch: 31, Train Loss: 5.970094854069983e-07, Test Loss: 4.997220811696378e-07\n",
      "Epoch: 32, Train Loss: 4.929391866426159e-07, Test Loss: 4.393645842283816e-07\n",
      "Epoch: 33, Train Loss: 4.332325114796175e-07, Test Loss: 3.9296782230804825e-07\n",
      "Epoch: 34, Train Loss: 3.756392506169859e-07, Test Loss: 3.827858113143564e-07\n",
      "Epoch: 35, Train Loss: 3.6620925817002403e-07, Test Loss: 3.358740381755279e-07\n",
      "Epoch: 36, Train Loss: 3.072380680838782e-07, Test Loss: 4.1443406099383217e-07\n",
      "Epoch: 37, Train Loss: 3.020552420954428e-07, Test Loss: 2.5855770155103753e-07\n",
      "Epoch: 38, Train Loss: 2.541488360537454e-07, Test Loss: 2.414225976977143e-07\n",
      "Epoch: 39, Train Loss: 2.397440795636901e-07, Test Loss: 2.1215147936073852e-07\n",
      "Epoch: 40, Train Loss: 2.147521583660043e-07, Test Loss: 1.9092059570017978e-07\n",
      "Epoch: 41, Train Loss: 1.9794371385659161e-07, Test Loss: 1.754717451154735e-07\n",
      "Epoch: 42, Train Loss: 1.7322431298542782e-07, Test Loss: 1.6164265370590085e-07\n",
      "Epoch: 43, Train Loss: 1.5731005355408388e-07, Test Loss: 1.4631973635013435e-07\n",
      "Epoch: 44, Train Loss: 1.4300678751541034e-07, Test Loss: 1.3417379483232765e-07\n",
      "Epoch: 45, Train Loss: 1.3139177100605952e-07, Test Loss: 1.240921872705457e-07\n",
      "Epoch: 46, Train Loss: 1.2248528771923877e-07, Test Loss: 1.1839731901617835e-07\n",
      "Epoch: 47, Train Loss: 1.1088258147759827e-07, Test Loss: 1.1341813682008708e-07\n",
      "Epoch: 48, Train Loss: 1.0682638816899453e-07, Test Loss: 9.828414750587877e-08\n",
      "Epoch: 49, Train Loss: 9.6046910806674e-08, Test Loss: 9.081315328131028e-08\n"
     ]
    }
   ],
   "source": [
    "train_loss_history = []\n",
    "test_loss_history = []\n",
    "\n",
    "for epoch in range(max_epochs):\n",
    "\n",
    "    train_loss = 0.0\n",
    "    test_loss = 0.0\n",
    "\n",
    "    for i, data in enumerate(train_loader):\n",
    "\n",
    "        images, labels = data\n",
    "        images, labels = images.to(DEVICE), labels.to(DEVICE)\n",
    "        optimizer.zero_grad()\n",
    "        predicted_output = model(images)\n",
    "        fit = criterion(predicted_output, labels)\n",
    "        fit.backward()\n",
    "        optimizer.step()\n",
    "        train_loss += fit.item() / len(train_data)\n",
    "\n",
    "    for i, data in enumerate(test_loader):\n",
    "        images, labels = data\n",
    "        images, labels = images.to(DEVICE), labels.to(DEVICE)\n",
    "        predicted_output = model(images)\n",
    "        fit = criterion(predicted_output, labels)\n",
    "        test_loss += fit.item() / len(test_data)\n",
    "\n",
    "    train_loss_history.append(train_loss)\n",
    "    test_loss_history.append(test_loss)\n",
    "\n",
    "    print(f'Epoch: {epoch}, Train Loss: {train_loss}, Test Loss: {test_loss}')"
   ]
  },
  {
   "attachments": {},
   "cell_type": "markdown",
   "metadata": {},
   "source": [
    "Now we can plot our loss to see how the model improved over time"
   ]
  },
  {
   "cell_type": "code",
   "execution_count": 68,
   "metadata": {},
   "outputs": [
    {
     "data": {
      "image/png": "[encoded data removed]",
      "text/plain": [
       "<Figure size 432x288 with 1 Axes>"
      ]
     },
     "metadata": {
      "needs_background": "light"
     },
     "output_type": "display_data"
    }
   ],
   "source": [
    "plt.plot(range(max_epochs),train_loss_history,'-',linewidth=3,label='Train error')\n",
    "plt.plot(range(max_epochs),test_loss_history,'-',linewidth=3,label='Test error')\n",
    "plt.xlabel('epoch')\n",
    "plt.ylabel('loss')\n",
    "plt.grid(True)\n",
    "plt.legend()\n",
    "plt.show()"
   ]
  },
  {
   "attachments": {},
   "cell_type": "markdown",
   "metadata": {},
   "source": [
    "## Plotting our Results"
   ]
  },
  {
   "cell_type": "code",
   "execution_count": 69,
   "metadata": {},
   "outputs": [
    {
     "name": "stderr",
     "output_type": "stream",
     "text": [
      "/tmp/ipykernel_1257958/765349691.py:8: UserWarning: Implicit dimension choice for softmax has been deprecated. Change the call to include dim=X as an argument.\n",
      "  prob_output = torch.nn.functional.softmax(predicted_output).detach().numpy()\n"
     ]
    },
    {
     "data": {
      "image/png": "[encoded data removed]",
      "text/plain": [
       "<Figure size 720x720 with 1 Axes>"
      ]
     },
     "metadata": {
      "needs_background": "light"
     },
     "output_type": "display_data"
    }
   ],
   "source": [
    "temp_pred_below = []\n",
    "temp_pred_above = []\n",
    "for idx in range(len(benchmark_data)):\n",
    "  image, label = benchmark_data[idx]\n",
    "  predicted_output = model(image.unsqueeze(0))\n",
    "  \n",
    "  # Need to apply softmax to get probabilities\n",
    "  prob_output = torch.nn.functional.softmax(predicted_output).detach().numpy()\n",
    "  predicted_label = torch.argmax(predicted_output).item()\n",
    "  # print(f\"predicted label: {predicted_label}, actual label: {label}\")\n",
    "\n",
    "  #get temp from label\n",
    "  temp = benchmark_data.classes[label]\n",
    "  temp_pred_below.append([float(temp), prob_output[0][1]])\n",
    "  temp_pred_above.append([float(temp), prob_output[0][0]])\n",
    "\n",
    "#plot the data\n",
    "fig = plt.figure(figsize=(10,10))\n",
    "ax = fig.add_subplot(111)\n",
    "ax.scatter([x[0] for x in temp_pred_below], [x[1] for x in temp_pred_below], c='b', marker=\"s\", label='confidence below critical temp')\n",
    "ax.scatter([x[0] for x in temp_pred_above], [x[1] for x in temp_pred_above], c='r', marker=\"o\", label='confidence above critical temp')\n",
    "\n",
    "plt.legend(loc='upper left');\n",
    "plt.show()\n"
   ]
  },
  {
   "cell_type": "code",
   "execution_count": 70,
   "metadata": {},
   "outputs": [
    {
     "data": {
      "image/png": "[encoded data removed]",
      "text/plain": [
       "<Figure size 720x720 with 1 Axes>"
      ]
     },
     "metadata": {
      "needs_background": "light"
     },
     "output_type": "display_data"
    }
   ],
   "source": [
    "#plot the average confidence for each temperature with error bars\n",
    "#error bars are standard deviation devide by sqrt of number of samples\n",
    "\n",
    "# get the average & standard deviation of confidence for each temperature\n",
    "temp_pred_below_avg = {}\n",
    "temp_pred_above_avg = {}\n",
    "\n",
    "temp_pred_below_std = {}\n",
    "temp_pred_above_std = {}\n",
    "\n",
    "for temp, pred in temp_pred_below:\n",
    "    if temp in temp_pred_below_avg:\n",
    "        temp_pred_below_avg[temp].append(pred)\n",
    "    else:\n",
    "        temp_pred_below_avg[temp] = [pred]\n",
    "\n",
    "    if temp in temp_pred_below_std:\n",
    "        temp_pred_below_std[temp].append(pred)\n",
    "    else:\n",
    "        temp_pred_below_std[temp] = [pred]\n",
    "\n",
    "for temp, pred in temp_pred_above:\n",
    "    if temp in temp_pred_above_avg:\n",
    "        temp_pred_above_avg[temp].append(pred)\n",
    "    else:\n",
    "        temp_pred_above_avg[temp] = [pred]\n",
    "\n",
    "    if temp in temp_pred_above_std:\n",
    "        temp_pred_above_std[temp].append(pred)\n",
    "    else:\n",
    "        temp_pred_above_std[temp] = [pred]\n",
    "\n",
    "temp_pred_above_avg = {temp: np.mean(pred) for temp, pred in temp_pred_above_avg.items()}\n",
    "temp_pred_below_avg = {temp: np.mean(pred) for temp, pred in temp_pred_below_avg.items()}\n",
    "\n",
    "temp_pred_above_err = {temp: np.std(pred)/np.sqrt(len(pred)) for temp, pred in temp_pred_above_std.items()}\n",
    "temp_pred_below_err = {temp: np.std(pred)/np.sqrt(len(pred)) for temp, pred in temp_pred_below_std.items()}\n",
    "\n",
    "    \n",
    "#plot the data\n",
    "fig = plt.figure(figsize=(10,10))\n",
    "ax = fig.add_subplot(111)\n",
    "ax.errorbar(list(temp_pred_below_avg.keys()), list(temp_pred_below_avg.values()), yerr=list(temp_pred_below_err.values()), c='b', marker=\"s\", label='confidence below critical temp')\n",
    "ax.errorbar(list(temp_pred_above_avg.keys()), list(temp_pred_above_avg.values()), yerr=list(temp_pred_above_err.values()), c='r', marker=\"o\", label='confidence above critical temp')\n",
    "\n",
    "plt.legend(loc='upper left');\n",
    "plt.show()\n",
    "    "
   ]
  },
  {
   "attachments": {},
   "cell_type": "markdown",
   "metadata": {},
   "source": [
    "### Save the model"
   ]
  },
  {
   "cell_type": "code",
   "execution_count": 71,
   "metadata": {},
   "outputs": [],
   "source": [
    "torch.save(model.state_dict(), './models/32-32-NN.pth')"
   ]
  }
 ],
 "metadata": {
  "kernelspec": {
   "display_name": "base",
   "language": "python",
   "name": "python3"
  },
  "language_info": {
   "codemirror_mode": {
    "name": "ipython",
    "version": 3
   },
   "file_extension": ".py",
   "mimetype": "text/x-python",
   "name": "python",
   "nbconvert_exporter": "python",
   "pygments_lexer": "ipython3",
   "version": "3.9.12"
  },
  "orig_nbformat": 4
 },
 "nbformat": 4,
 "nbformat_minor": 2
}
